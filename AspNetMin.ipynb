{
 "cells": [
  {
   "cell_type": "code",
   "execution_count": 1,
   "metadata": {},
   "source": [
    "Endpoints.MapAction(\"/\", async context =>\n",
    "{\n",
    "    await context.Response.WriteAsJsonAsync(new {\n",
    "        Hello = \"powershell!\",\n",
    "    });\n",
    "});\n",
    "\n",
    "#!pwsh\n",
    "Invoke-WebRequest http://localhost:5000/"
   ],
   "outputs": [
    {
     "output_type": "execute_result",
     "data": {
      "text/plain": ""
     },
     "execution_count": 1,
     "metadata": {}
    },
    {
     "output_type": "execute_result",
     "data": {
      "text/plain": "\r\n"
     },
     "execution_count": 1,
     "metadata": {}
    },
    {
     "output_type": "execute_result",
     "data": {
      "text/plain": "StatusCode        : 200\r\n"
     },
     "execution_count": 1,
     "metadata": {}
    },
    {
     "output_type": "execute_result",
     "data": {
      "text/plain": "StatusDescription : OK\r\n"
     },
     "execution_count": 1,
     "metadata": {}
    },
    {
     "output_type": "execute_result",
     "data": {
      "text/plain": "Content           : {\"hello\":\"powershell!\"}\r\n"
     },
     "execution_count": 1,
     "metadata": {}
    },
    {
     "output_type": "execute_result",
     "data": {
      "text/plain": "RawContent        : HTTP/1.1 200 OK\r\n"
     },
     "execution_count": 1,
     "metadata": {}
    },
    {
     "output_type": "execute_result",
     "data": {
      "text/plain": "                    Date: Wed, 18 Nov 2020 15:43:51 GMT\r\n"
     },
     "execution_count": 1,
     "metadata": {}
    },
    {
     "output_type": "execute_result",
     "data": {
      "text/plain": "                    Server: Kestrel\r\n"
     },
     "execution_count": 1,
     "metadata": {}
    },
    {
     "output_type": "execute_result",
     "data": {
      "text/plain": "                    Transfer-Encoding: chunked\r\n"
     },
     "execution_count": 1,
     "metadata": {}
    },
    {
     "output_type": "execute_result",
     "data": {
      "text/plain": "                    Content-Type: application/json; charset=utf-8\r\n"
     },
     "execution_count": 1,
     "metadata": {}
    },
    {
     "output_type": "execute_result",
     "data": {
      "text/plain": "                    \r\n"
     },
     "execution_count": 1,
     "metadata": {}
    },
    {
     "output_type": "execute_result",
     "data": {
      "text/plain": "                    {\"hello\":\"powershell!\"}\r\n"
     },
     "execution_count": 1,
     "metadata": {}
    },
    {
     "output_type": "execute_result",
     "data": {
      "text/plain": "Headers           : {[Date, System.String[]], [Server, System.String[]], [Transfer-Encoding, \r\n"
     },
     "execution_count": 1,
     "metadata": {}
    },
    {
     "output_type": "execute_result",
     "data": {
      "text/plain": "                    System.String[]], [Content-Type, System.String[]]}\r\n"
     },
     "execution_count": 1,
     "metadata": {}
    },
    {
     "output_type": "execute_result",
     "data": {
      "text/plain": "Images            : {}\r\n"
     },
     "execution_count": 1,
     "metadata": {}
    },
    {
     "output_type": "execute_result",
     "data": {
      "text/plain": "InputFields       : {}\r\n"
     },
     "execution_count": 1,
     "metadata": {}
    },
    {
     "output_type": "execute_result",
     "data": {
      "text/plain": "Links             : {}\r\n"
     },
     "execution_count": 1,
     "metadata": {}
    },
    {
     "output_type": "execute_result",
     "data": {
      "text/plain": "RawContentLength  : 23\r\n"
     },
     "execution_count": 1,
     "metadata": {}
    },
    {
     "output_type": "execute_result",
     "data": {
      "text/plain": "RelationLink      : {}\r\n"
     },
     "execution_count": 1,
     "metadata": {}
    },
    {
     "output_type": "execute_result",
     "data": {
      "text/plain": "\r\n"
     },
     "execution_count": 1,
     "metadata": {}
    },
    {
     "output_type": "execute_result",
     "data": {
      "text/plain": "\r\n"
     },
     "execution_count": 1,
     "metadata": {}
    }
   ]
  },
  {
   "cell_type": "code",
   "execution_count": 1,
   "metadata": {},
   "source": [
    "//Logging.MinLevel = LogLevel.Trace;\n",
    "//Logging.EnableConnectionLogging = true;\n",
    "\n",
    "Endpoints.MapAction(\"/Endpoint\", async context =>\n",
    "{\n",
    "    await context.Response.WriteAsync($\"Hello from rewritten /Endpoint! Look at the quick edit!\");\n",
    "});\n",
    "\n",
    "return await HttpClient.GetAsync(\"/Endpoint\");"
   ],
   "outputs": [
    {
     "output_type": "execute_result",
     "data": {
      "text/plain": "(HttpClient Request) Method: GET, RequestUri: 'http://localhost:5000/Endpoint', Version: 1.1, Content: <null>, Headers:\r\n{\r\n}\r\n"
     },
     "execution_count": 1,
     "metadata": {}
    },
    {
     "output_type": "execute_result",
     "data": {
      "text/plain": "(HttpClient Response) StatusCode: 200, ReasonPhrase: 'OK', Version: 1.1, Content: System.Net.Http.HttpConnectionResponseContent, Headers:\r\n{\r\n  Date: Wed, 18 Nov 2020 13:09:42 GMT\r\n  Server: Kestrel\r\n  Transfer-Encoding: chunked\r\n}\r\n"
     },
     "execution_count": 1,
     "metadata": {}
    },
    {
     "output_type": "execute_result",
     "data": {
      "text/plain": "Hello from rewritten /Endpoint! Look at the quick edit!\r\n"
     },
     "execution_count": 1,
     "metadata": {}
    },
    {
     "output_type": "execute_result",
     "data": {
      "text/html": "<table><thead><tr><th>Version</th><th>Content</th><th>StatusCode</th><th>ReasonPhrase</th><th>Headers</th><th>TrailingHeaders</th><th>RequestMessage</th><th>IsSuccessStatusCode</th></tr></thead><tbody><tr><td><div class=\"dni-plaintext\">1.1</div></td><td><div class=\"dni-plaintext\">System.Net.Http.HttpConnectionResponseContent</div></td><td><span>OK</span></td><td><div class=\"dni-plaintext\">OK</div></td><td><div class=\"dni-plaintext\">[ [Date, System.String[]], [Server, System.String[]], [Transfer-Encoding, System.String[]] ]</div></td><td><div class=\"dni-plaintext\">[  ]</div></td><td><div class=\"dni-plaintext\">Method: GET, RequestUri: &#39;http://localhost:5000/Endpoint&#39;, Version: 1.1, Content: &lt;null&gt;, Headers:\r\n{\r\n}</div></td><td><div class=\"dni-plaintext\">True</div></td></tr></tbody></table>"
     },
     "execution_count": 1,
     "metadata": {}
    }
   ]
  },
  {
   "cell_type": "code",
   "execution_count": 1,
   "metadata": {},
   "source": [
    "Endpoints.MapAction(\"/EndpointQS\", async context =>\n",
    "{\n",
    "    await context.Response.WriteAsync($\"QueryString: {context.Request.QueryString}\");\n",
    "});\n",
    "\n",
    "return await HttpClient.GetAsync(\"/EndpointQS?foo=bar&baz=qux\");"
   ],
   "outputs": [
    {
     "output_type": "execute_result",
     "data": {
      "text/plain": "(HttpClient Request) Method: GET, RequestUri: 'http://localhost:5000/EndpointQS?foo=bar&baz=qux', Version: 1.1, Content: <null>, Headers:\r\n{\r\n}\r\n"
     },
     "execution_count": 1,
     "metadata": {}
    },
    {
     "output_type": "execute_result",
     "data": {
      "text/plain": "(HttpClient Response) StatusCode: 200, ReasonPhrase: 'OK', Version: 1.1, Content: System.Net.Http.HttpConnectionResponseContent, Headers:\r\n{\r\n  Date: Wed, 18 Nov 2020 13:09:44 GMT\r\n  Server: Kestrel\r\n  Transfer-Encoding: chunked\r\n}\r\n"
     },
     "execution_count": 1,
     "metadata": {}
    },
    {
     "output_type": "execute_result",
     "data": {
      "text/plain": "QueryString: ?foo=bar&baz=qux\r\n"
     },
     "execution_count": 1,
     "metadata": {}
    },
    {
     "output_type": "execute_result",
     "data": {
      "text/html": "<table><thead><tr><th>Version</th><th>Content</th><th>StatusCode</th><th>ReasonPhrase</th><th>Headers</th><th>TrailingHeaders</th><th>RequestMessage</th><th>IsSuccessStatusCode</th></tr></thead><tbody><tr><td><div class=\"dni-plaintext\">1.1</div></td><td><div class=\"dni-plaintext\">System.Net.Http.HttpConnectionResponseContent</div></td><td><span>OK</span></td><td><div class=\"dni-plaintext\">OK</div></td><td><div class=\"dni-plaintext\">[ [Date, System.String[]], [Server, System.String[]], [Transfer-Encoding, System.String[]] ]</div></td><td><div class=\"dni-plaintext\">[  ]</div></td><td><div class=\"dni-plaintext\">Method: GET, RequestUri: &#39;http://localhost:5000/EndpointQS?foo=bar&amp;baz=qux&#39;, Version: 1.1, Content: &lt;null&gt;, Headers:\r\n{\r\n}</div></td><td><div class=\"dni-plaintext\">True</div></td></tr></tbody></table>"
     },
     "execution_count": 1,
     "metadata": {}
    }
   ]
  },
  {
   "cell_type": "code",
   "execution_count": 1,
   "metadata": {},
   "source": [
    "#!pwsh\n",
    "Invoke-WebRequest http://localhost:5000/EndpointQS?hi=powershell"
   ],
   "outputs": [
    {
     "output_type": "execute_result",
     "data": {
      "text/plain": ""
     },
     "execution_count": 1,
     "metadata": {}
    },
    {
     "output_type": "execute_result",
     "data": {
      "text/plain": "\r\n"
     },
     "execution_count": 1,
     "metadata": {}
    },
    {
     "output_type": "execute_result",
     "data": {
      "text/plain": "StatusCode        : 200\r\n"
     },
     "execution_count": 1,
     "metadata": {}
    },
    {
     "output_type": "execute_result",
     "data": {
      "text/plain": "StatusDescription : OK\r\n"
     },
     "execution_count": 1,
     "metadata": {}
    },
    {
     "output_type": "execute_result",
     "data": {
      "text/plain": "Content           : {81, 117, 101, 114…}\r\n"
     },
     "execution_count": 1,
     "metadata": {}
    },
    {
     "output_type": "execute_result",
     "data": {
      "text/plain": "RawContent        : HTTP/1.1 200 OK\r\n"
     },
     "execution_count": 1,
     "metadata": {}
    },
    {
     "output_type": "execute_result",
     "data": {
      "text/plain": "                    Date: Wed, 18 Nov 2020 13:09:48 GMT\r\n"
     },
     "execution_count": 1,
     "metadata": {}
    },
    {
     "output_type": "execute_result",
     "data": {
      "text/plain": "                    Server: Kestrel\r\n"
     },
     "execution_count": 1,
     "metadata": {}
    },
    {
     "output_type": "execute_result",
     "data": {
      "text/plain": "                    Transfer-Encoding: chunked\r\n"
     },
     "execution_count": 1,
     "metadata": {}
    },
    {
     "output_type": "execute_result",
     "data": {
      "text/plain": "                    \r\n"
     },
     "execution_count": 1,
     "metadata": {}
    },
    {
     "output_type": "execute_result",
     "data": {
      "text/plain": "                    QueryString: ?hi=powershell\r\n"
     },
     "execution_count": 1,
     "metadata": {}
    },
    {
     "output_type": "execute_result",
     "data": {
      "text/plain": "Headers           : {[Date, System.String[]], [Server, System.String[]], [Transfer-Encoding, \r\n"
     },
     "execution_count": 1,
     "metadata": {}
    },
    {
     "output_type": "execute_result",
     "data": {
      "text/plain": "                    System.String[]]}\r\n"
     },
     "execution_count": 1,
     "metadata": {}
    },
    {
     "output_type": "execute_result",
     "data": {
      "text/plain": "RawContentLength  : 27\r\n"
     },
     "execution_count": 1,
     "metadata": {}
    },
    {
     "output_type": "execute_result",
     "data": {
      "text/plain": "RelationLink      : {}\r\n"
     },
     "execution_count": 1,
     "metadata": {}
    },
    {
     "output_type": "execute_result",
     "data": {
      "text/plain": "\r\n"
     },
     "execution_count": 1,
     "metadata": {}
    },
    {
     "output_type": "execute_result",
     "data": {
      "text/plain": "\r\n"
     },
     "execution_count": 1,
     "metadata": {}
    }
   ]
  }
 ],
 "metadata": {
  "kernelspec": {
   "display_name": ".NET (C#)",
   "language": "C#",
   "name": ".net-csharp"
  },
  "language_info": {
   "file_extension": ".cs",
   "mimetype": "text/x-csharp",
   "name": "C#",
   "pygments_lexer": "csharp",
   "version": "8.0"
  }
 },
 "nbformat": 4,
 "nbformat_minor": 4
}