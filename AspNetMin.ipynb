{
 "cells": [
  {
   "cell_type": "code",
   "execution_count": 1,
   "metadata": {},
   "source": [
    "Endpoints.MapAction(\"/\", async context =>\n",
    "{\n",
    "    await context.Response.WriteAsync(\"Hello dotnet-interactive! I'm trying things out? Hi Powershell!\");\n",
    "});\n",
    "\n",
    "#!pwsh\n",
    "Invoke-WebRequest http://localhost:5000/"
   ],
   "outputs": [
    {
     "output_type": "execute_result",
     "data": {
      "text/plain": "info"
     },
     "execution_count": 1,
     "metadata": {}
    },
    {
     "output_type": "execute_result",
     "data": {
      "text/plain": ": Microsoft.AspNetCore.Hosting.Diagnostics[1]\r\n      Request starting HTTP/1.1 GET http://localhost:5000/ - 0\r\n"
     },
     "execution_count": 1,
     "metadata": {}
    },
    {
     "output_type": "execute_result",
     "data": {
      "text/plain": "info"
     },
     "execution_count": 1,
     "metadata": {}
    },
    {
     "output_type": "execute_result",
     "data": {
      "text/plain": ": Microsoft.AspNetCore.Routing.EndpointMiddleware[0]\r\n      Executing endpoint '/ HTTP: GET'\r\n"
     },
     "execution_count": 1,
     "metadata": {}
    },
    {
     "output_type": "execute_result",
     "data": {
      "text/plain": "info"
     },
     "execution_count": 1,
     "metadata": {}
    },
    {
     "output_type": "execute_result",
     "data": {
      "text/plain": ": Microsoft.AspNetCore.Routing.EndpointMiddleware[1]\r\n      Executed endpoint '/ HTTP: GET'\r\n"
     },
     "execution_count": 1,
     "metadata": {}
    },
    {
     "output_type": "execute_result",
     "data": {
      "text/plain": "info"
     },
     "execution_count": 1,
     "metadata": {}
    },
    {
     "output_type": "execute_result",
     "data": {
      "text/plain": ": Microsoft.AspNetCore.Hosting.Diagnostics[2]\r\n      Request finished HTTP/1.1 GET http://localhost:5000/ - 0 - 200 - - 4.3016ms\r\n"
     },
     "execution_count": 1,
     "metadata": {}
    },
    {
     "output_type": "execute_result",
     "data": {
      "text/plain": ""
     },
     "execution_count": 1,
     "metadata": {}
    },
    {
     "output_type": "execute_result",
     "data": {
      "text/plain": "\r\n"
     },
     "execution_count": 1,
     "metadata": {}
    },
    {
     "output_type": "execute_result",
     "data": {
      "text/plain": "StatusCode        : 200\r\n"
     },
     "execution_count": 1,
     "metadata": {}
    },
    {
     "output_type": "execute_result",
     "data": {
      "text/plain": "StatusDescription : OK\r\n"
     },
     "execution_count": 1,
     "metadata": {}
    },
    {
     "output_type": "execute_result",
     "data": {
      "text/plain": "Content           : {72, 101, 108, 108…}\r\n"
     },
     "execution_count": 1,
     "metadata": {}
    },
    {
     "output_type": "execute_result",
     "data": {
      "text/plain": "RawContent        : HTTP/1.1 200 OK\r\n"
     },
     "execution_count": 1,
     "metadata": {}
    },
    {
     "output_type": "execute_result",
     "data": {
      "text/plain": "                    Date: Tue, 17 Nov 2020 00:00:37 GMT\r\n"
     },
     "execution_count": 1,
     "metadata": {}
    },
    {
     "output_type": "execute_result",
     "data": {
      "text/plain": "                    Server: Kestrel\r\n"
     },
     "execution_count": 1,
     "metadata": {}
    },
    {
     "output_type": "execute_result",
     "data": {
      "text/plain": "                    Transfer-Encoding: chunked\r\n"
     },
     "execution_count": 1,
     "metadata": {}
    },
    {
     "output_type": "execute_result",
     "data": {
      "text/plain": "                    \r\n"
     },
     "execution_count": 1,
     "metadata": {}
    },
    {
     "output_type": "execute_result",
     "data": {
      "text/plain": "                    Hello dotnet-interactive! I'm trying things out? Hi Powershell!\r\n"
     },
     "execution_count": 1,
     "metadata": {}
    },
    {
     "output_type": "execute_result",
     "data": {
      "text/plain": "Headers           : {[Date, System.String[]], [Server, System.String[]], [Transfer-Encoding, \r\n"
     },
     "execution_count": 1,
     "metadata": {}
    },
    {
     "output_type": "execute_result",
     "data": {
      "text/plain": "                    System.String[]]}\r\n"
     },
     "execution_count": 1,
     "metadata": {}
    },
    {
     "output_type": "execute_result",
     "data": {
      "text/plain": "RawContentLength  : 63\r\n"
     },
     "execution_count": 1,
     "metadata": {}
    },
    {
     "output_type": "execute_result",
     "data": {
      "text/plain": "RelationLink      : {}\r\n"
     },
     "execution_count": 1,
     "metadata": {}
    },
    {
     "output_type": "execute_result",
     "data": {
      "text/plain": "\r\n"
     },
     "execution_count": 1,
     "metadata": {}
    },
    {
     "output_type": "execute_result",
     "data": {
      "text/plain": "\r\n"
     },
     "execution_count": 1,
     "metadata": {}
    }
   ]
  },
  {
   "cell_type": "code",
   "execution_count": 1,
   "metadata": {},
   "source": [
    "//Logging.MinimumLogLevel = LogLevel.Trace;\n",
    "//Logging.EnableConnectionLogging = true;\n",
    "\n",
    "Endpoints.MapAction(\"/Endpoint\", async context =>\n",
    "{\n",
    "    await context.Response.WriteAsync($\"Hello from rewritten /Endpoint! Anyone see else this? Crazy right!!!? Crazy Fast.\");\n",
    "});\n",
    "\n",
    "return await HttpClient.GetAsync(\"/Endpoint\");"
   ],
   "outputs": [
    {
     "output_type": "execute_result",
     "data": {
      "text/plain": "(HttpClient Request) Method: GET, RequestUri: 'http://localhost:5000/Endpoint', Version: 1.1, Content: <null>, Headers:\r\n{\r\n}\r\n"
     },
     "execution_count": 1,
     "metadata": {}
    },
    {
     "output_type": "execute_result",
     "data": {
      "text/plain": "info"
     },
     "execution_count": 1,
     "metadata": {}
    },
    {
     "output_type": "execute_result",
     "data": {
      "text/plain": ": Microsoft.AspNetCore.Hosting.Diagnostics[1]\r\n      Request starting HTTP/1.1 GET http://localhost:5000/Endpoint - -\r\n"
     },
     "execution_count": 1,
     "metadata": {}
    },
    {
     "output_type": "execute_result",
     "data": {
      "text/plain": "info"
     },
     "execution_count": 1,
     "metadata": {}
    },
    {
     "output_type": "execute_result",
     "data": {
      "text/plain": ": Microsoft.AspNetCore.Routing.EndpointMiddleware[0]\r\n      Executing endpoint '/Endpoint HTTP: GET'\r\n"
     },
     "execution_count": 1,
     "metadata": {}
    },
    {
     "output_type": "execute_result",
     "data": {
      "text/plain": "info"
     },
     "execution_count": 1,
     "metadata": {}
    },
    {
     "output_type": "execute_result",
     "data": {
      "text/plain": ": Microsoft.AspNetCore.Routing.EndpointMiddleware[1]\r\n      Executed endpoint '/Endpoint HTTP: GET'\r\n"
     },
     "execution_count": 1,
     "metadata": {}
    },
    {
     "output_type": "execute_result",
     "data": {
      "text/plain": "info"
     },
     "execution_count": 1,
     "metadata": {}
    },
    {
     "output_type": "execute_result",
     "data": {
      "text/plain": ": Microsoft.AspNetCore.Hosting.Diagnostics[2]\r\n      Request finished HTTP/1.1 GET http://localhost:5000/Endpoint - - - 200 - - 5.0659ms\r\n"
     },
     "execution_count": 1,
     "metadata": {}
    },
    {
     "output_type": "execute_result",
     "data": {
      "text/plain": "(HttpClient Response) StatusCode: 200, ReasonPhrase: 'OK', Version: 1.1, Content: System.Net.Http.HttpConnectionResponseContent, Headers:\r\n{\r\n  Date: Tue, 17 Nov 2020 00:00:04 GMT\r\n  Server: Kestrel\r\n  Transfer-Encoding: chunked\r\n}\r\n"
     },
     "execution_count": 1,
     "metadata": {}
    },
    {
     "output_type": "execute_result",
     "data": {
      "text/plain": "Hello from rewritten /Endpoint! Anyone see else this? Crazy right!!!? Crazy Fast.\r\n"
     },
     "execution_count": 1,
     "metadata": {}
    },
    {
     "output_type": "execute_result",
     "data": {
      "text/html": "<table><thead><tr><th>Version</th><th>Content</th><th>StatusCode</th><th>ReasonPhrase</th><th>Headers</th><th>TrailingHeaders</th><th>RequestMessage</th><th>IsSuccessStatusCode</th></tr></thead><tbody><tr><td><div class=\"dni-plaintext\">1.1</div></td><td><div class=\"dni-plaintext\">System.Net.Http.HttpConnectionResponseContent</div></td><td><span>OK</span></td><td><div class=\"dni-plaintext\">OK</div></td><td><div class=\"dni-plaintext\">[ [Date, System.String[]], [Server, System.String[]], [Transfer-Encoding, System.String[]] ]</div></td><td><div class=\"dni-plaintext\">[  ]</div></td><td><div class=\"dni-plaintext\">Method: GET, RequestUri: &#39;http://localhost:5000/Endpoint&#39;, Version: 1.1, Content: &lt;null&gt;, Headers:\r\n{\r\n}</div></td><td><div class=\"dni-plaintext\">True</div></td></tr></tbody></table>"
     },
     "execution_count": 1,
     "metadata": {}
    }
   ]
  },
  {
   "cell_type": "code",
   "execution_count": 1,
   "metadata": {},
   "source": [
    "Endpoints.MapAction(\"/EndpointQS\", async context =>\n",
    "{\n",
    "    await context.Response.WriteAsync($\"QueryString: {context.Request.QueryString}\");\n",
    "});\n",
    "\n",
    "return await HttpClient.GetAsync(\"/EndpointQS?foo=bar&baz=qux\");\n",
    ""
   ],
   "outputs": [
    {
     "output_type": "execute_result",
     "data": {
      "text/plain": "(HttpClient Request) Method: GET, RequestUri: 'http://localhost:5000/EndpointQS?foo=bar&baz=qux', Version: 1.1, Content: <null>, Headers:\r\n{\r\n}\r\n"
     },
     "execution_count": 1,
     "metadata": {}
    },
    {
     "output_type": "execute_result",
     "data": {
      "text/plain": "info"
     },
     "execution_count": 1,
     "metadata": {}
    },
    {
     "output_type": "execute_result",
     "data": {
      "text/plain": ": Microsoft.AspNetCore.Hosting.Diagnostics[1]\r\n      Request starting HTTP/1.1 GET http://localhost:5000/EndpointQS?foo=bar&baz=qux - -\r\n"
     },
     "execution_count": 1,
     "metadata": {}
    },
    {
     "output_type": "execute_result",
     "data": {
      "text/plain": "info"
     },
     "execution_count": 1,
     "metadata": {}
    },
    {
     "output_type": "execute_result",
     "data": {
      "text/plain": ": Microsoft.AspNetCore.Routing.EndpointMiddleware[0]\r\n      Executing endpoint '/EndpointQS HTTP: GET'\r\n"
     },
     "execution_count": 1,
     "metadata": {}
    },
    {
     "output_type": "execute_result",
     "data": {
      "text/plain": "info"
     },
     "execution_count": 1,
     "metadata": {}
    },
    {
     "output_type": "execute_result",
     "data": {
      "text/plain": ": Microsoft.AspNetCore.Routing.EndpointMiddleware[1]\r\n      Executed endpoint '/EndpointQS HTTP: GET'\r\n"
     },
     "execution_count": 1,
     "metadata": {}
    },
    {
     "output_type": "execute_result",
     "data": {
      "text/plain": "info"
     },
     "execution_count": 1,
     "metadata": {}
    },
    {
     "output_type": "execute_result",
     "data": {
      "text/plain": "(HttpClient Response) StatusCode: 200, ReasonPhrase: 'OK', Version: 1.1, Content: System.Net.Http.HttpConnectionResponseContent, Headers:\r\n{\r\n  Date: Tue, 17 Nov 2020 00:00:09 GMT\r\n  Server: Kestrel\r\n  Transfer-Encoding: chunked\r\n}\r\n"
     },
     "execution_count": 1,
     "metadata": {}
    },
    {
     "output_type": "execute_result",
     "data": {
      "text/plain": ": Microsoft.AspNetCore.Hosting.Diagnostics[2]\r\n      Request finished HTTP/1.1 GET http://localhost:5000/EndpointQS?foo=bar&baz=qux - - - 200 - - 4.0658ms\r\n"
     },
     "execution_count": 1,
     "metadata": {}
    },
    {
     "output_type": "execute_result",
     "data": {
      "text/plain": "QueryString: ?foo=bar&baz=qux\r\n"
     },
     "execution_count": 1,
     "metadata": {}
    },
    {
     "output_type": "execute_result",
     "data": {
      "text/html": "<table><thead><tr><th>Version</th><th>Content</th><th>StatusCode</th><th>ReasonPhrase</th><th>Headers</th><th>TrailingHeaders</th><th>RequestMessage</th><th>IsSuccessStatusCode</th></tr></thead><tbody><tr><td><div class=\"dni-plaintext\">1.1</div></td><td><div class=\"dni-plaintext\">System.Net.Http.HttpConnectionResponseContent</div></td><td><span>OK</span></td><td><div class=\"dni-plaintext\">OK</div></td><td><div class=\"dni-plaintext\">[ [Date, System.String[]], [Server, System.String[]], [Transfer-Encoding, System.String[]] ]</div></td><td><div class=\"dni-plaintext\">[  ]</div></td><td><div class=\"dni-plaintext\">Method: GET, RequestUri: &#39;http://localhost:5000/EndpointQS?foo=bar&amp;baz=qux&#39;, Version: 1.1, Content: &lt;null&gt;, Headers:\r\n{\r\n}</div></td><td><div class=\"dni-plaintext\">True</div></td></tr></tbody></table>"
     },
     "execution_count": 1,
     "metadata": {}
    }
   ]
  },
  {
   "cell_type": "code",
   "execution_count": 1,
   "metadata": {},
   "source": [
    "#!pwsh\n",
    "Invoke-WebRequest http://localhost:5000/EndpointQS?hi=powershell"
   ],
   "outputs": [
    {
     "output_type": "execute_result",
     "data": {
      "text/plain": "info"
     },
     "execution_count": 1,
     "metadata": {}
    },
    {
     "output_type": "execute_result",
     "data": {
      "text/plain": ": Microsoft.AspNetCore.Hosting.Diagnostics[1]\r\n      Request starting HTTP/1.1 GET http://localhost:5000/EndpointQS?hi=powershell - 0\r\n"
     },
     "execution_count": 1,
     "metadata": {}
    },
    {
     "output_type": "execute_result",
     "data": {
      "text/plain": "info"
     },
     "execution_count": 1,
     "metadata": {}
    },
    {
     "output_type": "execute_result",
     "data": {
      "text/plain": ": Microsoft.AspNetCore.Routing.EndpointMiddleware[0]\r\n      Executing endpoint '/EndpointQS HTTP: GET'\r\n"
     },
     "execution_count": 1,
     "metadata": {}
    },
    {
     "output_type": "execute_result",
     "data": {
      "text/plain": "info"
     },
     "execution_count": 1,
     "metadata": {}
    },
    {
     "output_type": "execute_result",
     "data": {
      "text/plain": ": Microsoft.AspNetCore.Routing.EndpointMiddleware[1]\r\n      Executed endpoint '/EndpointQS HTTP: GET'\r\n"
     },
     "execution_count": 1,
     "metadata": {}
    },
    {
     "output_type": "execute_result",
     "data": {
      "text/plain": "info"
     },
     "execution_count": 1,
     "metadata": {}
    },
    {
     "output_type": "execute_result",
     "data": {
      "text/plain": ": Microsoft.AspNetCore.Hosting.Diagnostics[2]\r\n      Request finished HTTP/1.1 GET http://localhost:5000/EndpointQS?hi=powershell - 0 - 200 - - 1.0941ms\r\n"
     },
     "execution_count": 1,
     "metadata": {}
    },
    {
     "output_type": "execute_result",
     "data": {
      "text/plain": ""
     },
     "execution_count": 1,
     "metadata": {}
    },
    {
     "output_type": "execute_result",
     "data": {
      "text/plain": "\r\n"
     },
     "execution_count": 1,
     "metadata": {}
    },
    {
     "output_type": "execute_result",
     "data": {
      "text/plain": "StatusCode        : 200\r\n"
     },
     "execution_count": 1,
     "metadata": {}
    },
    {
     "output_type": "execute_result",
     "data": {
      "text/plain": "StatusDescription : OK\r\n"
     },
     "execution_count": 1,
     "metadata": {}
    },
    {
     "output_type": "execute_result",
     "data": {
      "text/plain": "Content           : {81, 117, 101, 114…}\r\n"
     },
     "execution_count": 1,
     "metadata": {}
    },
    {
     "output_type": "execute_result",
     "data": {
      "text/plain": "RawContent        : HTTP/1.1 200 OK\r\n"
     },
     "execution_count": 1,
     "metadata": {}
    },
    {
     "output_type": "execute_result",
     "data": {
      "text/plain": "                    Date: Tue, 17 Nov 2020 00:00:13 GMT\r\n"
     },
     "execution_count": 1,
     "metadata": {}
    },
    {
     "output_type": "execute_result",
     "data": {
      "text/plain": "                    Server: Kestrel\r\n"
     },
     "execution_count": 1,
     "metadata": {}
    },
    {
     "output_type": "execute_result",
     "data": {
      "text/plain": "                    Transfer-Encoding: chunked\r\n"
     },
     "execution_count": 1,
     "metadata": {}
    },
    {
     "output_type": "execute_result",
     "data": {
      "text/plain": "                    \r\n"
     },
     "execution_count": 1,
     "metadata": {}
    },
    {
     "output_type": "execute_result",
     "data": {
      "text/plain": "                    QueryString: ?hi=powershell\r\n"
     },
     "execution_count": 1,
     "metadata": {}
    },
    {
     "output_type": "execute_result",
     "data": {
      "text/plain": "Headers           : {[Date, System.String[]], [Server, System.String[]], [Transfer-Encoding, \r\n"
     },
     "execution_count": 1,
     "metadata": {}
    },
    {
     "output_type": "execute_result",
     "data": {
      "text/plain": "                    System.String[]]}\r\n"
     },
     "execution_count": 1,
     "metadata": {}
    },
    {
     "output_type": "execute_result",
     "data": {
      "text/plain": "RawContentLength  : 27\r\n"
     },
     "execution_count": 1,
     "metadata": {}
    },
    {
     "output_type": "execute_result",
     "data": {
      "text/plain": "RelationLink      : {}\r\n"
     },
     "execution_count": 1,
     "metadata": {}
    },
    {
     "output_type": "execute_result",
     "data": {
      "text/plain": "\r\n"
     },
     "execution_count": 1,
     "metadata": {}
    },
    {
     "output_type": "execute_result",
     "data": {
      "text/plain": "\r\n"
     },
     "execution_count": 1,
     "metadata": {}
    }
   ]
  }
 ],
 "metadata": {
  "kernelspec": {
   "display_name": ".NET (C#)",
   "language": "C#",
   "name": ".net-csharp"
  },
  "language_info": {
   "file_extension": ".cs",
   "mimetype": "text/x-csharp",
   "name": "C#",
   "pygments_lexer": "csharp",
   "version": "8.0"
  }
 },
 "nbformat": 4,
 "nbformat_minor": 4
}