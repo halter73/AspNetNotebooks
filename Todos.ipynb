{
 "cells": [
  {
   "cell_type": "code",
   "execution_count": 1,
   "metadata": {},
   "source": [
    "Endpoints.MapGet(\"/api/todos\", async (TodoDbContext db) =>\n",
    "{\n",
    "    return await db.Todos.ToListAsync();\n",
    "});\n",
    "\n",
    "\n",
    "Endpoints.MapPost(\"/api/todos/{id}\", async (HttpContext http, TodoDbContext db, [FromBody] Todo inputTodo) =>\n",
    "{\n",
    "    var todo = await db.Todos.FindAsync(inputTodo.Id);\n",
    "    if (todo == null)\n",
    "    {\n",
    "        http.Response.StatusCode = 404;\n",
    "        return;\n",
    "    }\n",
    "\n",
    "    todo.IsComplete = inputTodo.IsComplete;\n",
    "    await db.SaveChangesAsync();\n",
    "    http.Response.StatusCode = 204;\n",
    "});"
   ],
   "outputs": []
  }
 ],
 "metadata": {
  "kernelspec": {
   "display_name": ".NET (C#)",
   "language": "C#",
   "name": ".net-csharp"
  },
  "language_info": {
   "file_extension": ".cs",
   "mimetype": "text/x-csharp",
   "name": "C#",
   "pygments_lexer": "csharp",
   "version": "8.0"
  }
 },
 "nbformat": 4,
 "nbformat_minor": 4
}