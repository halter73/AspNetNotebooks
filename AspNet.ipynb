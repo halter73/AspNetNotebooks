{
 "cells": [
  {
   "cell_type": "code",
   "execution_count": 1,
   "metadata": {},
   "source": [
    "IApplicationBuilder App = null;\n",
    "Microsoft.AspNetCore.Routing.IEndpointRouteBuilder Endpoints = null;\n",
    "\n",
    "var _ = Host.CreateDefaultBuilder()\n",
    "    .ConfigureWebHostDefaults(webBuilder =>\n",
    "    {\n",
    "        webBuilder.Configure(app => {\n",
    "            App = app.New();\n",
    "            App.UseRouting();\n",
    "            App.UseEndpoints(endpoints =>\n",
    "            {\n",
    "                Endpoints = endpoints;\n",
    "            });\n",
    "\n",
    "            app.Use(next =>\n",
    "                httpContext =>\n",
    "                   App.Build()(httpContext));\n",
    "        });\n",
    "    }).Build().RunAsync();\n",
    "\n",
    "//System.Diagnostics.Debugger.Launch();"
   ],
   "outputs": [
    {
     "output_type": "execute_result",
     "data": {
      "text/plain": "info"
     },
     "execution_count": 1,
     "metadata": {}
    },
    {
     "output_type": "execute_result",
     "data": {
      "text/plain": ": Microsoft.Hosting.Lifetime[0]\r\n      Now listening on: http://localhost:5000\r\n"
     },
     "execution_count": 1,
     "metadata": {}
    },
    {
     "output_type": "execute_result",
     "data": {
      "text/plain": "info"
     },
     "execution_count": 1,
     "metadata": {}
    },
    {
     "output_type": "execute_result",
     "data": {
      "text/plain": ": Microsoft.Hosting.Lifetime[0]\r\n      Now listening on: https://localhost:5001\r\n"
     },
     "execution_count": 1,
     "metadata": {}
    },
    {
     "output_type": "execute_result",
     "data": {
      "text/plain": "crit"
     },
     "execution_count": 1,
     "metadata": {}
    },
    {
     "output_type": "execute_result",
     "data": {
      "text/plain": ": Microsoft.AspNetCore.Hosting.Diagnostics[11]\r\n      Hosting startup assembly exception\r\n      System.InvalidOperationException: Startup assembly ℛ*7d5aab82-8924-4e4d-8e02-adbabfad4875#1-4 failed to execute. See the inner exception for more details.\r\n       ---> System.IO.FileNotFoundException: Could not load file or assembly 'ℛ*7d5aab82-8924-4e4d-8e02-adbabfad4875#1-4, Culture=neutral, PublicKeyToken=null'. The system cannot find the file specified.\r\n      File name: 'ℛ*7d5aab82-8924-4e4d-8e02-adbabfad4875#1-4, Culture=neutral, PublicKeyToken=null'\r\n         at System.Reflection.RuntimeAssembly.InternalLoad(ObjectHandleOnStack assemblyName, ObjectHandleOnStack requestingAssembly, StackCrawlMarkHandle stackMark, Boolean throwOnFileNotFound, ObjectHandleOnStack assemblyLoadContext, ObjectHandleOnStack retAssembly)\r\n         at System.Reflection.RuntimeAssembly.InternalLoad(AssemblyName assemblyName, RuntimeAssembly requestingAssembly, StackCrawlMark& stackMark, Boolean throwOnFileNotFound, AssemblyLoadContext assemblyLoadContext)\r\n         at System.Reflection.Assembly.Load(AssemblyName assemblyRef)\r\n         at Microsoft.AspNetCore.Hosting.GenericWebHostBuilder.ExecuteHostingStartups()\r\n         --- End of inner exception stack trace ---\r\n"
     },
     "execution_count": 1,
     "metadata": {}
    },
    {
     "output_type": "execute_result",
     "data": {
      "text/plain": "info"
     },
     "execution_count": 1,
     "metadata": {}
    },
    {
     "output_type": "execute_result",
     "data": {
      "text/plain": ": Microsoft.Hosting.Lifetime[0]\r\n      Application started. Press Ctrl+C to shut down.\r\n"
     },
     "execution_count": 1,
     "metadata": {}
    },
    {
     "output_type": "execute_result",
     "data": {
      "text/plain": "info"
     },
     "execution_count": 1,
     "metadata": {}
    },
    {
     "output_type": "execute_result",
     "data": {
      "text/plain": ": Microsoft.Hosting.Lifetime[0]\r\n      Hosting environment: Production\r\n"
     },
     "execution_count": 1,
     "metadata": {}
    },
    {
     "output_type": "execute_result",
     "data": {
      "text/plain": "info"
     },
     "execution_count": 1,
     "metadata": {}
    },
    {
     "output_type": "execute_result",
     "data": {
      "text/plain": ": Microsoft.Hosting.Lifetime[0]\r\n      Content root path: f:\\dev\\halter73\\JupyterNotebooks\r\n"
     },
     "execution_count": 1,
     "metadata": {}
    }
   ]
  },
  {
   "cell_type": "code",
   "execution_count": 1,
   "metadata": {},
   "source": [
    "Endpoints.MapGet(\"/Endpoint2\", async context =>\n",
    "{\n",
    "    Console.Write(\"/Endpoint2 hit!\");\n",
    "    await context.Response.WriteAsync(\"Hello Endpoint2!\");\n",
    "});\n",
    "Console.ReadLine();"
   ],
   "outputs": [
    {
     "output_type": "execute_result",
     "data": {
      "text/plain": "info"
     },
     "execution_count": 1,
     "metadata": {}
    },
    {
     "output_type": "execute_result",
     "data": {
      "text/plain": ": Microsoft.AspNetCore.Hosting.Diagnostics[1]\r\n      Request starting HTTP/2 GET https://localhost:5001/Endpoint2 - -\r\n"
     },
     "execution_count": 1,
     "metadata": {}
    },
    {
     "output_type": "execute_result",
     "data": {
      "text/plain": "fail"
     },
     "execution_count": 1,
     "metadata": {}
    },
    {
     "output_type": "execute_result",
     "data": {
      "text/plain": ": Microsoft.AspNetCore.Server.Kestrel[13]\r\n      Connection id \"0HM4A31DT3MH0\", Request id \"0HM4A31DT3MH0:0000000D\": An unhandled exception was thrown by the application.\r\n      Microsoft.AspNetCore.Routing.Matching.AmbiguousMatchException: The request matched multiple endpoints. Matches: \r\n      \r\n      /Endpoint2 HTTP: GET\r\n      /Endpoint2 HTTP: GET\r\n         at Microsoft.AspNetCore.Routing.Matching.DefaultEndpointSelector.ReportAmbiguity(CandidateState[] candidateState)\r\n         at Microsoft.AspNetCore.Routing.Matching.DefaultEndpointSelector.ProcessFinalCandidates(HttpContext httpContext, CandidateState[] candidateState)\r\n         at Microsoft.AspNetCore.Routing.Matching.DefaultEndpointSelector.Select(HttpContext httpContext, CandidateState[] candidateState)\r\n         at Microsoft.AspNetCore.Routing.Matching.DfaMatcher.MatchAsync(HttpContext httpContext)\r\n         at Microsoft.AspNetCore.Routing.Matching.DataSourceDependentMatcher.MatchAsync(HttpContext httpContext)\r\n         at Microsoft.AspNetCore.Routing.EndpointRoutingMiddleware.Invoke(HttpContext httpContext)\r\n         at Submission#4.<<Initialize>>b__0_4(HttpContext httpContext)\r\n         at Microsoft.AspNetCore.HostFiltering.HostFilteringMiddleware.Invoke(HttpContext context)\r\n         at Microsoft.AspNetCore.Hosting.HostingApplication.ProcessRequestAsync(Context context)\r\n         at Microsoft.AspNetCore.Server.Kestrel.Core.Internal.Http.HttpProtocol.ProcessRequests[TContext](IHttpApplication`1 application)\r\n"
     },
     "execution_count": 1,
     "metadata": {}
    },
    {
     "output_type": "execute_result",
     "data": {
      "text/plain": "info"
     },
     "execution_count": 1,
     "metadata": {}
    },
    {
     "output_type": "execute_result",
     "data": {
      "text/plain": ": Microsoft.AspNetCore.Hosting.Diagnostics[2]\r\n      Request finished HTTP/2 GET https://localhost:5001/Endpoint2 - - - 500 0 - 3.7270ms\r\n"
     },
     "execution_count": 1,
     "metadata": {}
    }
   ]
  },
  {
   "cell_type": "code",
   "execution_count": 1,
   "metadata": {},
   "source": [
    "RequestDelegate = context => {\n",
    "    return context.Response.WriteAsync(\"Hello World!!!!! Yessssssss.\");\n",
    "};\n",
    "\n",
    "OutputString = \"Output String Replaced!\";"
   ],
   "outputs": []
  },
  {
   "cell_type": "code",
   "execution_count": 1,
   "metadata": {},
   "source": [
    "#!whos"
   ],
   "outputs": [
    {
     "output_type": "execute_result",
     "data": {
      "text/html": "<table><thead><tr><th>Variable</th><th>Type</th><th>Value</th></tr></thead><tbody><tr><td>App</td><td><span><a href=\"https://docs.microsoft.com/dotnet/api/microsoft.aspnetcore.builder.applicationbuilder?view=netcore-3.0\">Microsoft.AspNetCore.Builder.ApplicationBuilder</a></span></td><td><div class=\"dni-plaintext\">Microsoft.AspNetCore.Builder.ApplicationBuilder</div></td></tr><tr><td>_</td><td><span><a href=\"https://docs.microsoft.com/dotnet/api/system.runtime.compilerservices.asynctaskmethodbuilder-1.asyncstatemachinebox-1?view=netcore-3.0\">System.Runtime.CompilerServices.AsyncTaskMethodBuilder&lt;System.Threading.Tasks.VoidTaskResult,Microsoft.Extensions.Hosting.HostingAbstractionsHostExtensions+&lt;RunAsync&gt;d__4&gt;</a></span></td><td><div class=\"dni-plaintext\">System.Runtime.CompilerServices.AsyncTaskMethodBuilder`1+AsyncStateMachineBox`1[System.Threading.Tasks.VoidTaskResult,Microsoft.Extensions.Hosting.HostingAbstractionsHostExtensions+&lt;RunAsync&gt;d__4]</div></td></tr></tbody></table>"
     },
     "execution_count": 1,
     "metadata": {}
    }
   ]
  }
 ],
 "metadata": {
  "kernelspec": {
   "display_name": ".NET (C#)",
   "language": "C#",
   "name": ".net-csharp"
  },
  "language_info": {
   "file_extension": ".cs",
   "mimetype": "text/x-csharp",
   "name": "C#",
   "pygments_lexer": "csharp",
   "version": "8.0"
  }
 },
 "nbformat": 4,
 "nbformat_minor": 4
}