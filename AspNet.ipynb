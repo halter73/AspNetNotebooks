{
 "cells": [
  {
   "cell_type": "code",
   "execution_count": 1,
   "metadata": {},
   "source": [
    "IApplicationBuilder App = null;\n",
    "IEndpointRouteBuilder Endpoints = null;\n",
    "\n",
    "Environment.SetEnvironmentVariable($\"ASPNETCORE_{WebHostDefaults.PreventHostingStartupKey}\", \"true\");\n",
    "\n",
    "var __AspNet_HostBuilder = Host.CreateDefaultBuilder()\n",
    "    .ConfigureWebHostDefaults(webBuilder =>\n",
    "    {\n",
    "        webBuilder.Configure(app => {\n",
    "            App = app.New();\n",
    "            App.UseRouting();\n",
    "            App.UseEndpoints(endpoints =>\n",
    "            {\n",
    "                Endpoints = endpoints;\n",
    "            });\n",
    "\n",
    "            app.Use(next =>\n",
    "                httpContext =>\n",
    "                   App.Build()(httpContext));\n",
    "        });\n",
    "    });\n",
    "\n",
    "var __AspNet_HostRunAsyncTask = __AspNet_HostBuilder.Build().RunAsync();"
   ],
   "outputs": [
    {
     "output_type": "execute_result",
     "data": {
      "text/plain": "info"
     },
     "execution_count": 1,
     "metadata": {}
    }
   ]
  },
  {
   "cell_type": "code",
   "execution_count": 1,
   "metadata": {},
   "source": [
    "private static int __AspNet_NextEndpointOrder;\n",
    "\n",
    "public static IEndpointConventionBuilder MapAction(\n",
    "    this IEndpointRouteBuilder endpoints,\n",
    "    string pattern,\n",
    "    RequestDelegate requestDelegate)\n",
    "{\n",
    "    var order = __AspNet_NextEndpointOrder--;\n",
    "    var builder = endpoints.MapGet(pattern, requestDelegate);\n",
    "    builder.Add(b => ((RouteEndpointBuilder)b).Order = order);\n",
    "    return builder;\n",
    "}"
   ],
   "outputs": []
  },
  {
   "cell_type": "code",
   "execution_count": 1,
   "metadata": {},
   "source": [
    "class WriteLineHandler : DelegatingHandler\n",
    "{\n",
    "    public WriteLineHandler(HttpMessageHandler innerHandler)\n",
    "        : base(innerHandler)\n",
    "    {\n",
    "    }\n",
    "\n",
    "    protected override async Task<HttpResponseMessage> SendAsync(HttpRequestMessage request, CancellationToken cancellationToken)\n",
    "    {\n",
    "        Console.WriteLine($\"(HttpClient Request) {request}\");\n",
    "        if (request.Content != null)\n",
    "        {\n",
    "            Console.WriteLine(await request.Content.ReadAsStringAsync());\n",
    "        }\n",
    "\n",
    "        HttpResponseMessage response = await base.SendAsync(request, cancellationToken);\n",
    "\n",
    "        Console.WriteLine($\"(HttpClient Response) {response}\");\n",
    "        if (response.Content != null)\n",
    "        {\n",
    "            Console.WriteLine(await response.Content.ReadAsStringAsync());\n",
    "        }\n",
    "\n",
    "        return response;\n",
    "    }\n",
    "}\n",
    "\n",
    "var HttpClient = new HttpClient(new WriteLineHandler(new SocketsHttpHandler()));\n",
    "HttpClient.BaseAddress = new Uri(\"http://localhost:5000/\");"
   ],
   "outputs": [
    {
     "output_type": "execute_result",
     "data": {
      "text/plain": "info"
     },
     "execution_count": 1,
     "metadata": {}
    },
    {
     "output_type": "execute_result",
     "data": {
      "text/plain": ": Microsoft.Hosting.Lifetime[0]\r\n      Now listening on: http://localhost:5000\r\n"
     },
     "execution_count": 1,
     "metadata": {}
    },
    {
     "output_type": "execute_result",
     "data": {
      "text/plain": "info"
     },
     "execution_count": 1,
     "metadata": {}
    },
    {
     "output_type": "execute_result",
     "data": {
      "text/plain": ": Microsoft.Hosting.Lifetime[0]\r\n      Now listening on: https://localhost:5001\r\n"
     },
     "execution_count": 1,
     "metadata": {}
    },
    {
     "output_type": "execute_result",
     "data": {
      "text/plain": "info"
     },
     "execution_count": 1,
     "metadata": {}
    },
    {
     "output_type": "execute_result",
     "data": {
      "text/plain": ": Microsoft.Hosting.Lifetime[0]\r\n      Application started. Press Ctrl+C to shut down.\r\n"
     },
     "execution_count": 1,
     "metadata": {}
    },
    {
     "output_type": "execute_result",
     "data": {
      "text/plain": "info"
     },
     "execution_count": 1,
     "metadata": {}
    },
    {
     "output_type": "execute_result",
     "data": {
      "text/plain": ": Microsoft.Hosting.Lifetime[0]\r\n      Hosting environment: Production\r\n"
     },
     "execution_count": 1,
     "metadata": {}
    },
    {
     "output_type": "execute_result",
     "data": {
      "text/plain": "info"
     },
     "execution_count": 1,
     "metadata": {}
    },
    {
     "output_type": "execute_result",
     "data": {
      "text/plain": ": Microsoft.Hosting.Lifetime[0]\r\n      Content root path: f:\\dev\\halter73\\JupyterNotebooks\r\n"
     },
     "execution_count": 1,
     "metadata": {}
    }
   ]
  },
  {
   "cell_type": "code",
   "execution_count": 1,
   "metadata": {},
   "source": [
    "Endpoints.MapAction(\"/\", async context =>\n",
    "{\n",
    "    await context.Response.WriteAsync(\"Hello HttpClient!\");\n",
    "});\n",
    "\n",
    "await HttpClient.GetAsync(\"/\")"
   ],
   "outputs": [
    {
     "output_type": "execute_result",
     "data": {
      "text/plain": "(HttpClient Request) Method: GET, RequestUri: 'http://localhost:5000/', Version: 1.1, Content: <null>, Headers:\r\n{\r\n}\r\n"
     },
     "execution_count": 1,
     "metadata": {}
    },
    {
     "output_type": "execute_result",
     "data": {
      "text/plain": "info"
     },
     "execution_count": 1,
     "metadata": {}
    },
    {
     "output_type": "execute_result",
     "data": {
      "text/plain": ": Microsoft.AspNetCore.Hosting.Diagnostics[1]\r\n      Request starting HTTP/1.1 GET http://localhost:5000/ - -\r\n"
     },
     "execution_count": 1,
     "metadata": {}
    },
    {
     "output_type": "execute_result",
     "data": {
      "text/plain": "info"
     },
     "execution_count": 1,
     "metadata": {}
    },
    {
     "output_type": "execute_result",
     "data": {
      "text/plain": ": Microsoft.AspNetCore.Routing.EndpointMiddleware[0]\r\n      Executing endpoint '/ HTTP: GET'\r\n"
     },
     "execution_count": 1,
     "metadata": {}
    },
    {
     "output_type": "execute_result",
     "data": {
      "text/plain": "info"
     },
     "execution_count": 1,
     "metadata": {}
    },
    {
     "output_type": "execute_result",
     "data": {
      "text/plain": ": Microsoft.AspNetCore.Routing.EndpointMiddleware[1]\r\n      Executed endpoint '/ HTTP: GET'\r\n"
     },
     "execution_count": 1,
     "metadata": {}
    },
    {
     "output_type": "execute_result",
     "data": {
      "text/plain": "info"
     },
     "execution_count": 1,
     "metadata": {}
    },
    {
     "output_type": "execute_result",
     "data": {
      "text/plain": ": Microsoft.AspNetCore.Hosting.Diagnostics[2]\r\n      Request finished HTTP/1.1 GET http://localhost:5000/ - - - 200 - - 19.2956ms\r\n"
     },
     "execution_count": 1,
     "metadata": {}
    },
    {
     "output_type": "execute_result",
     "data": {
      "text/plain": "(HttpClient Response) StatusCode: 200, ReasonPhrase: 'OK', Version: 1.1, Content: System.Net.Http.HttpConnectionResponseContent, Headers:\r\n{\r\n  Date: Mon, 16 Nov 2020 13:26:29 GMT\r\n  Server: Kestrel\r\n  Transfer-Encoding: chunked\r\n}\r\n"
     },
     "execution_count": 1,
     "metadata": {}
    },
    {
     "output_type": "execute_result",
     "data": {
      "text/plain": "Hello HttpClient!\r\n"
     },
     "execution_count": 1,
     "metadata": {}
    },
    {
     "output_type": "execute_result",
     "data": {
      "text/html": "<table><thead><tr><th>Version</th><th>Content</th><th>StatusCode</th><th>ReasonPhrase</th><th>Headers</th><th>TrailingHeaders</th><th>RequestMessage</th><th>IsSuccessStatusCode</th></tr></thead><tbody><tr><td><div class=\"dni-plaintext\">1.1</div></td><td><div class=\"dni-plaintext\">System.Net.Http.HttpConnectionResponseContent</div></td><td><span>OK</span></td><td><div class=\"dni-plaintext\">OK</div></td><td><div class=\"dni-plaintext\">[ [Date, System.String[]], [Server, System.String[]], [Transfer-Encoding, System.String[]] ]</div></td><td><div class=\"dni-plaintext\">[  ]</div></td><td><div class=\"dni-plaintext\">Method: GET, RequestUri: &#39;http://localhost:5000/&#39;, Version: 1.1, Content: &lt;null&gt;, Headers:\r\n{\r\n}</div></td><td><div class=\"dni-plaintext\">True</div></td></tr></tbody></table>"
     },
     "execution_count": 1,
     "metadata": {}
    }
   ]
  },
  {
   "cell_type": "code",
   "execution_count": 1,
   "metadata": {},
   "source": [
    "#!whos"
   ],
   "outputs": [
    {
     "output_type": "execute_result",
     "data": {
      "text/html": "<table><thead><tr><th>Variable</th><th>Type</th><th>Value</th></tr></thead><tbody><tr><td>App</td><td><span><a href=\"https://docs.microsoft.com/dotnet/api/microsoft.aspnetcore.builder.applicationbuilder?view=netcore-3.0\">Microsoft.AspNetCore.Builder.ApplicationBuilder</a></span></td><td><div class=\"dni-plaintext\">Microsoft.AspNetCore.Builder.ApplicationBuilder</div></td></tr><tr><td>Endpoints</td><td><span><a href=\"https://docs.microsoft.com/dotnet/api/microsoft.aspnetcore.routing.defaultendpointroutebuilder?view=netcore-3.0\">Microsoft.AspNetCore.Routing.DefaultEndpointRouteBuilder</a></span></td><td><div class=\"dni-plaintext\">Microsoft.AspNetCore.Routing.DefaultEndpointRouteBuilder</div></td></tr><tr><td>__AspNet_HostRunAsyncTask</td><td><span><a href=\"https://docs.microsoft.com/dotnet/api/system.runtime.compilerservices.asynctaskmethodbuilder-1.asyncstatemachinebox-1?view=netcore-3.0\">System.Runtime.CompilerServices.AsyncTaskMethodBuilder&lt;System.Threading.Tasks.VoidTaskResult,Microsoft.Extensions.Hosting.HostingAbstractionsHostExtensions+&lt;RunAsync&gt;d__4&gt;</a></span></td><td><div class=\"dni-plaintext\">System.Runtime.CompilerServices.AsyncTaskMethodBuilder`1+AsyncStateMachineBox`1[System.Threading.Tasks.VoidTaskResult,Microsoft.Extensions.Hosting.HostingAbstractionsHostExtensions+&lt;RunAsync&gt;d__4]</div></td></tr><tr><td>__AspNet_NextEndpointOrder</td><td><span><a href=\"https://docs.microsoft.com/dotnet/api/system.int32?view=netcore-3.0\">System.Int32</a></span></td><td><div class=\"dni-plaintext\">-1</div></td></tr><tr><td>HttpClient</td><td><span><a href=\"https://docs.microsoft.com/dotnet/api/system.net.http.httpclient?view=netcore-3.0\">System.Net.Http.HttpClient</a></span></td><td><div class=\"dni-plaintext\">System.Net.Http.HttpClient</div></td></tr></tbody></table>"
     },
     "execution_count": 1,
     "metadata": {}
    }
   ]
  }
 ],
 "metadata": {
  "kernelspec": {
   "display_name": ".NET (C#)",
   "language": "C#",
   "name": ".net-csharp"
  },
  "language_info": {
   "file_extension": ".cs",
   "mimetype": "text/x-csharp",
   "name": "C#",
   "pygments_lexer": "csharp",
   "version": "8.0"
  }
 },
 "nbformat": 4,
 "nbformat_minor": 4
}