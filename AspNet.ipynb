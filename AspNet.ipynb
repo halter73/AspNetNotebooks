{
 "cells": [
  {
   "cell_type": "code",
   "execution_count": 1,
   "metadata": {},
   "source": [
    "public class Startup\n",
    "{\n",
    "    // This method gets called by the runtime. Use this method to add services to the container.\n",
    "    // For more information on how to configure your application, visit https://go.microsoft.com/fwlink/?LinkID=398940\n",
    "    public void ConfigureServices(IServiceCollection services)\n",
    "    {\n",
    "    }\n",
    "\n",
    "    // This method gets called by the runtime. Use this method to configure the HTTP request pipeline.\n",
    "    public void Configure(IApplicationBuilder app, IWebHostEnvironment env)\n",
    "    {\n",
    "        if (env.IsDevelopment())\n",
    "        {\n",
    "            app.UseDeveloperExceptionPage();\n",
    "        }\n",
    "\n",
    "        app.UseRouting();\n",
    "\n",
    "        app.UseEndpoints(endpoints =>\n",
    "        {\n",
    "            endpoints.MapGet(\"/\", async context =>\n",
    "            {\n",
    "                await context.Response.WriteAsync(\"Hello World!\");\n",
    "            });\n",
    "        });\n",
    "    }\n",
    "}\n",
    "\n",
    "\n",
    "//await WebHost.CreateDefaultBuilder().UseStartup<Startup>().Build().RunAsync();\n",
    "await Host.CreateDefaultBuilder()\n",
    "    .ConfigureWebHostDefaults(webBuilder =>\n",
    "    {\n",
    "        webBuilder.UseStartup<Startup>();\n",
    "    }).Build().RunAsync();"
   ],
   "outputs": [
    {
     "output_type": "execute_result",
     "data": {
      "text/plain": "info"
     },
     "execution_count": 1,
     "metadata": {}
    },
    {
     "output_type": "execute_result",
     "data": {
      "text/plain": ": Microsoft.Hosting.Lifetime[0]\r\n      Now listening on: http://localhost:5000\r\n"
     },
     "execution_count": 1,
     "metadata": {}
    },
    {
     "output_type": "execute_result",
     "data": {
      "text/plain": "info"
     },
     "execution_count": 1,
     "metadata": {}
    },
    {
     "output_type": "execute_result",
     "data": {
      "text/plain": ": Microsoft.Hosting.Lifetime[0]\r\n      Now listening on: https://localhost:5001\r\n"
     },
     "execution_count": 1,
     "metadata": {}
    },
    {
     "output_type": "execute_result",
     "data": {
      "text/plain": "crit"
     },
     "execution_count": 1,
     "metadata": {}
    },
    {
     "output_type": "execute_result",
     "data": {
      "text/plain": ": Microsoft.AspNetCore.Hosting.Diagnostics[11]\r\n      Hosting startup assembly exception\r\n      System.InvalidOperationException: Startup assembly ℛ*929ba4db-6d3e-4383-b2c3-2363dfce178d#1-4 failed to execute. See the inner exception for more details.\r\n       ---> System.IO.FileNotFoundException: Could not load file or assembly 'ℛ*929ba4db-6d3e-4383-b2c3-2363dfce178d#1-4, Culture=neutral, PublicKeyToken=null'. The system cannot find the file specified.\r\n      File name: 'ℛ*929ba4db-6d3e-4383-b2c3-2363dfce178d#1-4, Culture=neutral, PublicKeyToken=null'\r\n         at System.Reflection.RuntimeAssembly.InternalLoad(ObjectHandleOnStack assemblyName, ObjectHandleOnStack requestingAssembly, StackCrawlMarkHandle stackMark, Boolean throwOnFileNotFound, ObjectHandleOnStack assemblyLoadContext, ObjectHandleOnStack retAssembly)\r\n         at System.Reflection.RuntimeAssembly.InternalLoad(AssemblyName assemblyName, RuntimeAssembly requestingAssembly, StackCrawlMark& stackMark, Boolean throwOnFileNotFound, AssemblyLoadContext assemblyLoadContext)\r\n         at System.Reflection.Assembly.Load(AssemblyName assemblyRef)\r\n         at Microsoft.AspNetCore.Hosting.GenericWebHostBuilder.ExecuteHostingStartups()\r\n         --- End of inner exception stack trace ---\r\n"
     },
     "execution_count": 1,
     "metadata": {}
    },
    {
     "output_type": "execute_result",
     "data": {
      "text/plain": "info"
     },
     "execution_count": 1,
     "metadata": {}
    },
    {
     "output_type": "execute_result",
     "data": {
      "text/plain": ": Microsoft.Hosting.Lifetime[0]\r\n      Application started. Press Ctrl+C to shut down.\r\n"
     },
     "execution_count": 1,
     "metadata": {}
    },
    {
     "output_type": "execute_result",
     "data": {
      "text/plain": "info"
     },
     "execution_count": 1,
     "metadata": {}
    },
    {
     "output_type": "execute_result",
     "data": {
      "text/plain": ": Microsoft.Hosting.Lifetime[0]\r\n      Hosting environment: Production\r\n"
     },
     "execution_count": 1,
     "metadata": {}
    },
    {
     "output_type": "execute_result",
     "data": {
      "text/plain": "info"
     },
     "execution_count": 1,
     "metadata": {}
    },
    {
     "output_type": "execute_result",
     "data": {
      "text/plain": ": Microsoft.Hosting.Lifetime[0]\r\n      Content root path: f:\\dev\\halter73\\JupyterNotebooks\r\n"
     },
     "execution_count": 1,
     "metadata": {}
    }
   ]
  },
  {
   "cell_type": "code",
   "execution_count": 1,
   "metadata": {},
   "source": [
    "//using Microsoft.AspNetCore.Server.Kestrel.Core;\n",
    "//using Microsoft.Extensions.Options;\n",
    "//var server = new KestrelServer(Options.Create<KestrelServerOptions>())"
   ],
   "outputs": []
  },
  {
   "cell_type": "code",
   "execution_count": 1,
   "metadata": {},
   "source": [
    "var a = 2;\n",
    "var b = a * 2;\n",
    "#!whos"
   ],
   "outputs": [
    {
     "output_type": "execute_result",
     "data": {
      "text/html": "<table><thead><tr><th>Variable</th><th>Type</th><th>Value</th></tr></thead><tbody><tr><td>a</td><td><span><a href=\"https://docs.microsoft.com/dotnet/api/system.int32?view=netcore-3.0\">System.Int32</a></span></td><td><div class=\"dni-plaintext\">2</div></td></tr><tr><td>b</td><td><span><a href=\"https://docs.microsoft.com/dotnet/api/system.int32?view=netcore-3.0\">System.Int32</a></span></td><td><div class=\"dni-plaintext\">4</div></td></tr></tbody></table>"
     },
     "execution_count": 1,
     "metadata": {}
    }
   ]
  }
 ],
 "metadata": {
  "kernelspec": {
   "display_name": ".NET (C#)",
   "language": "C#",
   "name": ".net-csharp"
  },
  "language_info": {
   "file_extension": ".cs",
   "mimetype": "text/x-csharp",
   "name": "C#",
   "pygments_lexer": "csharp",
   "version": "8.0"
  }
 },
 "nbformat": 4,
 "nbformat_minor": 4
}