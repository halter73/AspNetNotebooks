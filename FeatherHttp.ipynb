{
 "cells": [
  {
   "cell_type": "code",
   "execution_count": 1,
   "metadata": {},
   "source": [
    "#i nuget:https://f.feedz.io/featherhttp/framework/nuget/index.json\n",
    "#i nuget:https://api.nuget.org/v3/index.json\n",
    "#r nuget:FeatherHttp,*-*"
   ],
   "outputs": [
    {
     "output_type": "execute_result",
     "data": {
      "text/html": "<div><strong>Restore sources</strong><ul><li><span>https://pkgs.dev.azure.com/dnceng/public/_packaging/dotnet-tools/nuget/v3/index.json</span></li><li><span>https://f.feedz.io/featherhttp/framework/nuget/index.json</span></li></ul></div>"
     },
     "execution_count": 1,
     "metadata": {}
    },
    {
     "output_type": "execute_result",
     "data": {
      "text/html": "<div><strong>Restore sources</strong><ul><li><span>https://pkgs.dev.azure.com/dnceng/public/_packaging/dotnet-tools/nuget/v3/index.json</span></li><li><span>https://f.feedz.io/featherhttp/framework/nuget/index.json</span></li><li><span>https://api.nuget.org/v3/index.json</span></li></ul></div>"
     },
     "execution_count": 1,
     "metadata": {}
    },
    {
     "output_type": "execute_result",
     "data": {
      "text/plain": "Installed package FeatherHttp version 0.1.70-alpha.gb521a8cfa4"
     },
     "execution_count": 1,
     "metadata": {}
    }
   ]
  },
  {
   "cell_type": "code",
   "execution_count": 1,
   "metadata": {},
   "source": [
    "var app = WebApplication.Create();\n",
    "\n",
    "//app.MapGet(\"/\", async http =>\n",
    "//{\n",
    "//    await http.Response.WriteAsync(\"Hello World\");\n",
    "//});\n",
    "\n",
    "await app.RunAsync();"
   ],
   "outputs": [
    {
     "output_type": "error",
     "ename": "Error",
     "evalue": "System.IO.FileNotFoundException: Could not load file or assembly 'ℛ*dab401ee-7ef2-42a7-81d0-fd23b6f6dfce#1-6, Culture=neutral, PublicKeyToken=null'. The system cannot find the file specified.\r\nFile name: 'ℛ*dab401ee-7ef2-42a7-81d0-fd23b6f6dfce#1-6, Culture=neutral, PublicKeyToken=null'\r\n   at System.Reflection.RuntimeAssembly.InternalLoad(ObjectHandleOnStack assemblyName, ObjectHandleOnStack requestingAssembly, StackCrawlMarkHandle stackMark, Boolean throwOnFileNotFound, ObjectHandleOnStack assemblyLoadContext, ObjectHandleOnStack retAssembly)\r\n   at System.Reflection.RuntimeAssembly.InternalLoad(AssemblyName assemblyName, RuntimeAssembly requestingAssembly, StackCrawlMark& stackMark, Boolean throwOnFileNotFound, AssemblyLoadContext assemblyLoadContext)\r\n   at System.Reflection.Assembly.Load(AssemblyName assemblyRef)\r\n   at Microsoft.AspNetCore.Builder.WebApplication.<>c__DisplayClass52_0.<ConfigureBuilder>b__1(HostBuilderContext hostingContext, IConfigurationBuilder config)\r\n   at Microsoft.Extensions.Configuration.ConfigurationHostBuilder.ConfigureAppConfiguration(Action`2 configureDelegate)\r\n   at Microsoft.AspNetCore.Builder.WebApplication.ConfigureBuilder(IHostBuilder builder, String[] args)\r\n   at Microsoft.AspNetCore.Builder.WebApplication.<>c.<Create>b__41_0(IHostBuilder builder)\r\n   at Microsoft.AspNetCore.Builder.WebApplicationBuilder..ctor(Assembly callingAssembly, Action`1 configureHost)\r\n   at Microsoft.AspNetCore.Builder.WebApplication.Create()\r\n   at Submission#6.<<Initialize>>d__0.MoveNext()\r\n--- End of stack trace from previous location ---\r\n   at Microsoft.CodeAnalysis.Scripting.ScriptExecutionState.RunSubmissionsAsync[TResult](ImmutableArray`1 precedingExecutors, Func`2 currentExecutor, StrongBox`1 exceptionHolderOpt, Func`2 catchExceptionOpt, CancellationToken cancellationToken)",
     "traceback": []
    }
   ]
  }
 ],
 "metadata": {
  "kernelspec": {
   "display_name": ".NET (C#)",
   "language": "C#",
   "name": ".net-csharp"
  },
  "language_info": {
   "file_extension": ".cs",
   "mimetype": "text/x-csharp",
   "name": "C#",
   "pygments_lexer": "csharp",
   "version": "8.0"
  }
 },
 "nbformat": 4,
 "nbformat_minor": 4
}